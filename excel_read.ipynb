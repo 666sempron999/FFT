{
 "cells": [
  {
   "cell_type": "code",
   "execution_count": 1,
   "metadata": {},
   "outputs": [
    {
     "name": "stderr",
     "output_type": "stream",
     "text": [
      "/usr/local/lib/python3.5/dist-packages/pandas/util/_decorators.py:118: FutureWarning: The `sheetname` keyword is deprecated, use `sheet_name` instead\n",
      "  return func(*args, **kwargs)\n"
     ]
    }
   ],
   "source": [
    "import pandas as pd\n",
    "from pandas import ExcelWriter\n",
    "from pandas import ExcelFile\n",
    "\n",
    "df = pd.read_excel(\"ТИМЧЕНКО(син).xls\", sheetname=\"Лист1\", header=None)"
   ]
  },
  {
   "cell_type": "code",
   "execution_count": 2,
   "metadata": {},
   "outputs": [
    {
     "data": {
      "text/html": [
       "<div>\n",
       "<style scoped>\n",
       "    .dataframe tbody tr th:only-of-type {\n",
       "        vertical-align: middle;\n",
       "    }\n",
       "\n",
       "    .dataframe tbody tr th {\n",
       "        vertical-align: top;\n",
       "    }\n",
       "\n",
       "    .dataframe thead th {\n",
       "        text-align: right;\n",
       "    }\n",
       "</style>\n",
       "<table border=\"1\" class=\"dataframe\">\n",
       "  <thead>\n",
       "    <tr style=\"text-align: right;\">\n",
       "      <th></th>\n",
       "      <th>0</th>\n",
       "      <th>1</th>\n",
       "    </tr>\n",
       "  </thead>\n",
       "  <tbody>\n",
       "    <tr>\n",
       "      <th>0</th>\n",
       "      <td>0.0001</td>\n",
       "      <td>0.013320</td>\n",
       "    </tr>\n",
       "    <tr>\n",
       "      <th>1</th>\n",
       "      <td>0.0002</td>\n",
       "      <td>0.026641</td>\n",
       "    </tr>\n",
       "    <tr>\n",
       "      <th>2</th>\n",
       "      <td>0.0003</td>\n",
       "      <td>0.039961</td>\n",
       "    </tr>\n",
       "    <tr>\n",
       "      <th>3</th>\n",
       "      <td>0.0004</td>\n",
       "      <td>0.053281</td>\n",
       "    </tr>\n",
       "    <tr>\n",
       "      <th>4</th>\n",
       "      <td>0.0005</td>\n",
       "      <td>0.066601</td>\n",
       "    </tr>\n",
       "    <tr>\n",
       "      <th>5</th>\n",
       "      <td>0.0006</td>\n",
       "      <td>0.079921</td>\n",
       "    </tr>\n",
       "    <tr>\n",
       "      <th>6</th>\n",
       "      <td>0.0007</td>\n",
       "      <td>0.093241</td>\n",
       "    </tr>\n",
       "    <tr>\n",
       "      <th>7</th>\n",
       "      <td>0.0008</td>\n",
       "      <td>0.106561</td>\n",
       "    </tr>\n",
       "    <tr>\n",
       "      <th>8</th>\n",
       "      <td>0.0009</td>\n",
       "      <td>0.119880</td>\n",
       "    </tr>\n",
       "    <tr>\n",
       "      <th>9</th>\n",
       "      <td>0.0010</td>\n",
       "      <td>0.133199</td>\n",
       "    </tr>\n",
       "    <tr>\n",
       "      <th>10</th>\n",
       "      <td>0.0011</td>\n",
       "      <td>0.146518</td>\n",
       "    </tr>\n",
       "    <tr>\n",
       "      <th>11</th>\n",
       "      <td>0.0012</td>\n",
       "      <td>0.159837</td>\n",
       "    </tr>\n",
       "    <tr>\n",
       "      <th>12</th>\n",
       "      <td>0.0013</td>\n",
       "      <td>0.173155</td>\n",
       "    </tr>\n",
       "    <tr>\n",
       "      <th>13</th>\n",
       "      <td>0.0014</td>\n",
       "      <td>0.186474</td>\n",
       "    </tr>\n",
       "    <tr>\n",
       "      <th>14</th>\n",
       "      <td>0.0015</td>\n",
       "      <td>0.199791</td>\n",
       "    </tr>\n",
       "    <tr>\n",
       "      <th>15</th>\n",
       "      <td>0.0016</td>\n",
       "      <td>0.213109</td>\n",
       "    </tr>\n",
       "    <tr>\n",
       "      <th>16</th>\n",
       "      <td>0.0017</td>\n",
       "      <td>0.226426</td>\n",
       "    </tr>\n",
       "    <tr>\n",
       "      <th>17</th>\n",
       "      <td>0.0018</td>\n",
       "      <td>0.239742</td>\n",
       "    </tr>\n",
       "    <tr>\n",
       "      <th>18</th>\n",
       "      <td>0.0019</td>\n",
       "      <td>0.253058</td>\n",
       "    </tr>\n",
       "    <tr>\n",
       "      <th>19</th>\n",
       "      <td>0.0020</td>\n",
       "      <td>0.266374</td>\n",
       "    </tr>\n",
       "    <tr>\n",
       "      <th>20</th>\n",
       "      <td>0.0021</td>\n",
       "      <td>0.279689</td>\n",
       "    </tr>\n",
       "    <tr>\n",
       "      <th>21</th>\n",
       "      <td>0.0022</td>\n",
       "      <td>0.293004</td>\n",
       "    </tr>\n",
       "    <tr>\n",
       "      <th>22</th>\n",
       "      <td>0.0023</td>\n",
       "      <td>0.306318</td>\n",
       "    </tr>\n",
       "    <tr>\n",
       "      <th>23</th>\n",
       "      <td>0.0024</td>\n",
       "      <td>0.319631</td>\n",
       "    </tr>\n",
       "    <tr>\n",
       "      <th>24</th>\n",
       "      <td>0.0025</td>\n",
       "      <td>0.332944</td>\n",
       "    </tr>\n",
       "    <tr>\n",
       "      <th>25</th>\n",
       "      <td>0.0026</td>\n",
       "      <td>0.346256</td>\n",
       "    </tr>\n",
       "    <tr>\n",
       "      <th>26</th>\n",
       "      <td>0.0027</td>\n",
       "      <td>0.359568</td>\n",
       "    </tr>\n",
       "    <tr>\n",
       "      <th>27</th>\n",
       "      <td>0.0028</td>\n",
       "      <td>0.372879</td>\n",
       "    </tr>\n",
       "    <tr>\n",
       "      <th>28</th>\n",
       "      <td>0.0029</td>\n",
       "      <td>0.386189</td>\n",
       "    </tr>\n",
       "    <tr>\n",
       "      <th>29</th>\n",
       "      <td>0.0030</td>\n",
       "      <td>0.399499</td>\n",
       "    </tr>\n",
       "    <tr>\n",
       "      <th>...</th>\n",
       "      <td>...</td>\n",
       "      <td>...</td>\n",
       "    </tr>\n",
       "    <tr>\n",
       "      <th>65505</th>\n",
       "      <td>6.5506</td>\n",
       "      <td>0.805008</td>\n",
       "    </tr>\n",
       "    <tr>\n",
       "      <th>65506</th>\n",
       "      <td>6.5507</td>\n",
       "      <td>0.798985</td>\n",
       "    </tr>\n",
       "    <tr>\n",
       "      <th>65507</th>\n",
       "      <td>6.5508</td>\n",
       "      <td>0.792954</td>\n",
       "    </tr>\n",
       "    <tr>\n",
       "      <th>65508</th>\n",
       "      <td>6.5509</td>\n",
       "      <td>0.786913</td>\n",
       "    </tr>\n",
       "    <tr>\n",
       "      <th>65509</th>\n",
       "      <td>6.5510</td>\n",
       "      <td>0.780864</td>\n",
       "    </tr>\n",
       "    <tr>\n",
       "      <th>65510</th>\n",
       "      <td>6.5511</td>\n",
       "      <td>0.774806</td>\n",
       "    </tr>\n",
       "    <tr>\n",
       "      <th>65511</th>\n",
       "      <td>6.5512</td>\n",
       "      <td>0.768739</td>\n",
       "    </tr>\n",
       "    <tr>\n",
       "      <th>65512</th>\n",
       "      <td>6.5513</td>\n",
       "      <td>0.762663</td>\n",
       "    </tr>\n",
       "    <tr>\n",
       "      <th>65513</th>\n",
       "      <td>6.5514</td>\n",
       "      <td>0.756579</td>\n",
       "    </tr>\n",
       "    <tr>\n",
       "      <th>65514</th>\n",
       "      <td>6.5515</td>\n",
       "      <td>0.750485</td>\n",
       "    </tr>\n",
       "    <tr>\n",
       "      <th>65515</th>\n",
       "      <td>6.5516</td>\n",
       "      <td>0.744383</td>\n",
       "    </tr>\n",
       "    <tr>\n",
       "      <th>65516</th>\n",
       "      <td>6.5517</td>\n",
       "      <td>0.738272</td>\n",
       "    </tr>\n",
       "    <tr>\n",
       "      <th>65517</th>\n",
       "      <td>6.5518</td>\n",
       "      <td>0.732153</td>\n",
       "    </tr>\n",
       "    <tr>\n",
       "      <th>65518</th>\n",
       "      <td>6.5519</td>\n",
       "      <td>0.726024</td>\n",
       "    </tr>\n",
       "    <tr>\n",
       "      <th>65519</th>\n",
       "      <td>6.5520</td>\n",
       "      <td>0.719887</td>\n",
       "    </tr>\n",
       "    <tr>\n",
       "      <th>65520</th>\n",
       "      <td>6.5521</td>\n",
       "      <td>0.713742</td>\n",
       "    </tr>\n",
       "    <tr>\n",
       "      <th>65521</th>\n",
       "      <td>6.5522</td>\n",
       "      <td>0.707587</td>\n",
       "    </tr>\n",
       "    <tr>\n",
       "      <th>65522</th>\n",
       "      <td>6.5523</td>\n",
       "      <td>0.701424</td>\n",
       "    </tr>\n",
       "    <tr>\n",
       "      <th>65523</th>\n",
       "      <td>6.5524</td>\n",
       "      <td>0.695252</td>\n",
       "    </tr>\n",
       "    <tr>\n",
       "      <th>65524</th>\n",
       "      <td>6.5525</td>\n",
       "      <td>0.689072</td>\n",
       "    </tr>\n",
       "    <tr>\n",
       "      <th>65525</th>\n",
       "      <td>6.5526</td>\n",
       "      <td>0.682883</td>\n",
       "    </tr>\n",
       "    <tr>\n",
       "      <th>65526</th>\n",
       "      <td>6.5527</td>\n",
       "      <td>0.676686</td>\n",
       "    </tr>\n",
       "    <tr>\n",
       "      <th>65527</th>\n",
       "      <td>6.5528</td>\n",
       "      <td>0.670480</td>\n",
       "    </tr>\n",
       "    <tr>\n",
       "      <th>65528</th>\n",
       "      <td>6.5529</td>\n",
       "      <td>0.664265</td>\n",
       "    </tr>\n",
       "    <tr>\n",
       "      <th>65529</th>\n",
       "      <td>6.5530</td>\n",
       "      <td>0.658042</td>\n",
       "    </tr>\n",
       "    <tr>\n",
       "      <th>65530</th>\n",
       "      <td>6.5531</td>\n",
       "      <td>0.651810</td>\n",
       "    </tr>\n",
       "    <tr>\n",
       "      <th>65531</th>\n",
       "      <td>6.5532</td>\n",
       "      <td>0.645570</td>\n",
       "    </tr>\n",
       "    <tr>\n",
       "      <th>65532</th>\n",
       "      <td>6.5533</td>\n",
       "      <td>0.639322</td>\n",
       "    </tr>\n",
       "    <tr>\n",
       "      <th>65533</th>\n",
       "      <td>6.5534</td>\n",
       "      <td>0.633064</td>\n",
       "    </tr>\n",
       "    <tr>\n",
       "      <th>65534</th>\n",
       "      <td>6.5535</td>\n",
       "      <td>0.626799</td>\n",
       "    </tr>\n",
       "  </tbody>\n",
       "</table>\n",
       "<p>65535 rows × 2 columns</p>\n",
       "</div>"
      ],
      "text/plain": [
       "            0         1\n",
       "0      0.0001  0.013320\n",
       "1      0.0002  0.026641\n",
       "2      0.0003  0.039961\n",
       "3      0.0004  0.053281\n",
       "4      0.0005  0.066601\n",
       "5      0.0006  0.079921\n",
       "6      0.0007  0.093241\n",
       "7      0.0008  0.106561\n",
       "8      0.0009  0.119880\n",
       "9      0.0010  0.133199\n",
       "10     0.0011  0.146518\n",
       "11     0.0012  0.159837\n",
       "12     0.0013  0.173155\n",
       "13     0.0014  0.186474\n",
       "14     0.0015  0.199791\n",
       "15     0.0016  0.213109\n",
       "16     0.0017  0.226426\n",
       "17     0.0018  0.239742\n",
       "18     0.0019  0.253058\n",
       "19     0.0020  0.266374\n",
       "20     0.0021  0.279689\n",
       "21     0.0022  0.293004\n",
       "22     0.0023  0.306318\n",
       "23     0.0024  0.319631\n",
       "24     0.0025  0.332944\n",
       "25     0.0026  0.346256\n",
       "26     0.0027  0.359568\n",
       "27     0.0028  0.372879\n",
       "28     0.0029  0.386189\n",
       "29     0.0030  0.399499\n",
       "...       ...       ...\n",
       "65505  6.5506  0.805008\n",
       "65506  6.5507  0.798985\n",
       "65507  6.5508  0.792954\n",
       "65508  6.5509  0.786913\n",
       "65509  6.5510  0.780864\n",
       "65510  6.5511  0.774806\n",
       "65511  6.5512  0.768739\n",
       "65512  6.5513  0.762663\n",
       "65513  6.5514  0.756579\n",
       "65514  6.5515  0.750485\n",
       "65515  6.5516  0.744383\n",
       "65516  6.5517  0.738272\n",
       "65517  6.5518  0.732153\n",
       "65518  6.5519  0.726024\n",
       "65519  6.5520  0.719887\n",
       "65520  6.5521  0.713742\n",
       "65521  6.5522  0.707587\n",
       "65522  6.5523  0.701424\n",
       "65523  6.5524  0.695252\n",
       "65524  6.5525  0.689072\n",
       "65525  6.5526  0.682883\n",
       "65526  6.5527  0.676686\n",
       "65527  6.5528  0.670480\n",
       "65528  6.5529  0.664265\n",
       "65529  6.5530  0.658042\n",
       "65530  6.5531  0.651810\n",
       "65531  6.5532  0.645570\n",
       "65532  6.5533  0.639322\n",
       "65533  6.5534  0.633064\n",
       "65534  6.5535  0.626799\n",
       "\n",
       "[65535 rows x 2 columns]"
      ]
     },
     "execution_count": 2,
     "metadata": {},
     "output_type": "execute_result"
    }
   ],
   "source": [
    "df"
   ]
  },
  {
   "cell_type": "code",
   "execution_count": 9,
   "metadata": {},
   "outputs": [],
   "source": [
    "x = df[0].values.tolist()\n",
    "y = df[1].values.tolist()\n",
    "x = list(map(float, x))\n",
    "y = list(map(float, y))"
   ]
  },
  {
   "cell_type": "code",
   "execution_count": 10,
   "metadata": {},
   "outputs": [],
   "source": [
    "import matplotlib.pyplot as plt"
   ]
  },
  {
   "cell_type": "code",
   "execution_count": 11,
   "metadata": {},
   "outputs": [
    {
     "data": {
      "image/png": "[encoded data removed]",
      "text/plain": [
       "<Figure size 432x288 with 1 Axes>"
      ]
     },
     "metadata": {},
     "output_type": "display_data"
    },
    {
     "name": "stdout",
     "output_type": "stream",
     "text": [
      "Считано 65535 строк\n"
     ]
    }
   ],
   "source": [
    "plt.title(\"Оригинальные данные\")\n",
    "plt.plot(x, y, label=\"data\")\n",
    "plt.grid(True)\n",
    "plt.xlabel(\"Время t\")\n",
    "plt.ylabel(\"Амплитуда В\")\n",
    "plt.show()\n",
    "\n",
    "print(\"Считано {} строк\".format(len(y)))"
   ]
  },
  {
   "cell_type": "code",
   "execution_count": 12,
   "metadata": {},
   "outputs": [],
   "source": [
    "import numpy as np"
   ]
  },
  {
   "cell_type": "code",
   "execution_count": 13,
   "metadata": {},
   "outputs": [],
   "source": [
    "# def split_list(alist, wanted_parts=1):\n",
    "#     length = len(alist)\n",
    "#     return [ alist[i*length // wanted_parts: (i+1)*length // wanted_parts] \n",
    "#              for i in range(wanted_parts) ]"
   ]
  },
  {
   "cell_type": "code",
   "execution_count": 16,
   "metadata": {},
   "outputs": [],
   "source": [
    "t = np.linspace(0, len(x), len(x), endpoint=True)"
   ]
  },
  {
   "cell_type": "code",
   "execution_count": 18,
   "metadata": {},
   "outputs": [],
   "source": [
    "Y = np.fft.fft(y)"
   ]
  },
  {
   "cell_type": "code",
   "execution_count": 19,
   "metadata": {},
   "outputs": [
    {
     "data": {
      "text/plain": [
       "array([ 14466.11507612   +0.j        ,  14673.28878749 +620.62166185j,\n",
       "        15351.00180570+1347.70934862j, ...,  16715.64169835-2346.53471735j,\n",
       "        15351.00180570-1347.70934862j,  14673.28878749 -620.62166185j])"
      ]
     },
     "execution_count": 19,
     "metadata": {},
     "output_type": "execute_result"
    }
   ],
   "source": [
    "Y"
   ]
  },
  {
   "cell_type": "code",
   "execution_count": 20,
   "metadata": {},
   "outputs": [
    {
     "name": "stderr",
     "output_type": "stream",
     "text": [
      "/usr/local/lib/python3.5/dist-packages/numpy/core/numeric.py:531: ComplexWarning: Casting complex values to real discards the imaginary part\n",
      "  return array(a, dtype, copy=False, order=order)\n"
     ]
    },
    {
     "data": {
      "text/plain": [
       "[<matplotlib.lines.Line2D at 0x7fd3b5f32358>]"
      ]
     },
     "execution_count": 20,
     "metadata": {},
     "output_type": "execute_result"
    },
    {
     "data": {
      "image/png": "[encoded data removed]",
      "text/plain": [
       "<Figure size 432x288 with 1 Axes>"
      ]
     },
     "metadata": {},
     "output_type": "display_data"
    }
   ],
   "source": [
    "plt.plot(Y)"
   ]
  },
  {
   "cell_type": "code",
   "execution_count": 21,
   "metadata": {},
   "outputs": [
    {
     "data": {
      "text/plain": [
       "[<matplotlib.lines.Line2D at 0x7fd3b6d2a048>]"
      ]
     },
     "execution_count": 21,
     "metadata": {},
     "output_type": "execute_result"
    },
    {
     "data": {
      "image/png": "[encoded data removed]",
      "text/plain": [
       "<Figure size 432x288 with 1 Axes>"
      ]
     },
     "metadata": {},
     "output_type": "display_data"
    }
   ],
   "source": [
    "N = int(len(Y)/2+1)\n",
    "plt.plot(np.abs(Y))"
   ]
  },
  {
   "cell_type": "code",
   "execution_count": 22,
   "metadata": {},
   "outputs": [
    {
     "data": {
      "text/plain": [
       "[<matplotlib.lines.Line2D at 0x7fd3b5ef2780>]"
      ]
     },
     "execution_count": 22,
     "metadata": {},
     "output_type": "execute_result"
    },
    {
     "data": {
      "image/png": "[encoded data removed]",
      "text/plain": [
       "<Figure size 432x288 with 1 Axes>"
      ]
     },
     "metadata": {},
     "output_type": "display_data"
    }
   ],
   "source": [
    "plt.plot(np.abs(Y[:N]))"
   ]
  },
  {
   "cell_type": "code",
   "execution_count": 24,
   "metadata": {},
   "outputs": [
    {
     "data": {
      "text/plain": [
       "10000.0"
      ]
     },
     "execution_count": 24,
     "metadata": {},
     "output_type": "execute_result"
    }
   ],
   "source": [
    "dt = x[1] - x[0]\n",
    "fa = 1.0/dt # scan frequency\n",
    "fa"
   ]
  },
  {
   "cell_type": "code",
   "execution_count": 25,
   "metadata": {},
   "outputs": [
    {
     "data": {
      "text/plain": [
       "[<matplotlib.lines.Line2D at 0x7fd3b5f12b70>]"
      ]
     },
     "execution_count": 25,
     "metadata": {},
     "output_type": "execute_result"
    },
    {
     "data": {
      "image/png": "[encoded data removed]",
      "text/plain": [
       "<Figure size 432x288 with 1 Axes>"
      ]
     },
     "metadata": {},
     "output_type": "display_data"
    }
   ],
   "source": [
    "X = np.linspace(0, fa/2, N, endpoint=True)\n",
    "plt.xlabel('Frequency ($Hz$)')\n",
    "plt.plot(X, np.abs(Y[:N]))"
   ]
  },
  {
   "cell_type": "code",
   "execution_count": 26,
   "metadata": {},
   "outputs": [
    {
     "data": {
      "text/plain": [
       "Text(0,0.5,'Amplitude ($Unit$)')"
      ]
     },
     "execution_count": 26,
     "metadata": {},
     "output_type": "execute_result"
    },
    {
     "data": {
      "image/png": "[encoded data removed]",
      "text/plain": [
       "<Figure size 432x288 with 1 Axes>"
      ]
     },
     "metadata": {},
     "output_type": "display_data"
    }
   ],
   "source": [
    "plt.plot(X, 2.0*np.abs(Y[:N])/N)\n",
    "plt.xlabel('Frequency ($Hz$)')\n",
    "plt.ylabel('Amplitude ($Unit$)')"
   ]
  },
  {
   "cell_type": "code",
   "execution_count": null,
   "metadata": {},
   "outputs": [],
   "source": []
  }
 ],
 "metadata": {
  "kernelspec": {
   "display_name": "Python 3",
   "language": "python",
   "name": "python3"
  },
  "language_info": {
   "codemirror_mode": {
    "name": "ipython",
    "version": 3
   },
   "file_extension": ".py",
   "mimetype": "text/x-python",
   "name": "python",
   "nbconvert_exporter": "python",
   "pygments_lexer": "ipython3",
   "version": "3.5.2"
  }
 },
 "nbformat": 4,
 "nbformat_minor": 2
}
